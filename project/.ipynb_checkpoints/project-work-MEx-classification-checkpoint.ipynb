{
 "cells": [
  {
   "cell_type": "markdown",
   "metadata": {
    "nbgrader": {
     "grade": false,
     "grade_id": "cell-708d46d3f9180abe",
     "locked": true,
     "schema_version": 3,
     "solution": false
    }
   },
   "source": [
    "# Multimodal Data Fusion - Project Work: Multi-Modal Physical Exercise Classification\n",
    "\n",
    "\n",
    "In this project, real multi-modal data is studied by utilizing different techniques presented during the course. In addition, there is an optional task to try some different approaches to identify persons from the same dataset. Open MEx dataset from UCI machine learning repository is used. Idea is to apply different techniques to recognize physical exercises from wearable sensors and depth camera, user-independently."
   ]
  },
  {
   "cell_type": "markdown",
   "metadata": {},
   "source": [
    "## Author(s)\n",
    "Add your information here\n",
    "\n",
    "Name: Toni Väisänen\n",
    "\n",
    "Student number: 2124515"
   ]
  },
  {
   "cell_type": "markdown",
   "metadata": {
    "nbgrader": {
     "grade": false,
     "grade_id": "cell-32738734cf6f1a4f",
     "locked": true,
     "schema_version": 3,
     "solution": false
    }
   },
   "source": [
    "## Description \n",
    "\n",
    "The goal of this project is to develop user-independent pre-processing and classification models to recognize 7 different physical exercises measured by accelerometer (attached to subject's thigh) and depth camera (above the subject facing downwards recording an aerial view). All the exercises were performed subject lying down on the mat. Original dataset have also another acceleration sensor and pressure-sensitive mat, but those two modalities are ommited in this project. There are totally 30 subjects in the original dataset, and in this work subset of 10 person is utilized. Detailed description of the dataset and original data can be access in [MEx dataset @ UCI machine learning repository](https://archive.ics.uci.edu/ml/datasets/MEx#). We are providing the subset of dataset in Moodle.\n",
    "\n",
    "The project work is divided on following phases:\n",
    "\n",
    "1. Data preparation, exploration, and visualization\n",
    "2. Feature extraction and unimodal fusion for classification\n",
    "3. Feature extraction and feature-level fusion for multimodal classification\n",
    "4. Decision-level fusion for multimodal classification\n",
    "5. Bonus task: Multimodal biometric identification of persons\n",
    "\n",
    "where 1-4 are compulsory (max. 10 points each), and 5 is optional to get bonus points (max. 5+5 points). In each phase, you should visualize and analyse the results and document the work and findings properly by text blocks and figures between the code. <b> Nice looking </b> and <b> informative </b> notebook representing your results and analysis will be part of the grading in addition to actual implementation.\n",
    "\n",
    "The results are validated using confusion matrices and F1 scores. F1 macro score is given as \n",
    "<br>\n",
    "<br>\n",
    "$\n",
    "\\begin{equation}\n",
    "F1_{macro} = \\frac{1}{N} \\sum_i^N F1_i,\n",
    "\\end{equation}\n",
    "$\n",
    "<br>\n",
    "<br>\n",
    "where $F1_i = 2  \\frac{precision_i * recall_i}{precision_i + recall_i}$, and $N$ is the number of classes.\n",
    "<br>\n",
    "\n",
    "## Learning goals \n",
    "\n",
    "After the project work, you should  \n",
    "\n",
    "- be able to study real world multi-modal data\n",
    "- be able to apply different data fusion techniques to real-world problem\n",
    "- be able to evaluate the results\n",
    "- be able to analyse the outcome\n",
    "- be able to document your work properly\n",
    "\n",
    "## Relevant lectures\n",
    "\n",
    "Lectures 1-8\n",
    "\n",
    "## Relevant exercises\n",
    "\n",
    "Exercises 0-6\n",
    "\n",
    "## Relevant chapters in course book\n",
    "\n",
    "Chapter 1-14\n",
    "\n",
    "## Additional Material \n",
    "\n",
    "* Original dataset [MEx dataset @ UCI machine learning repository](https://archive.ics.uci.edu/ml/datasets/MEx#)\n",
    "* Related scientific article [MEx: Multi-modal Exercises Dataset for Human Activity Recognition](https://arxiv.org/pdf/1908.08992.pdf)"
   ]
  },
  {
   "cell_type": "markdown",
   "metadata": {
    "nbgrader": {
     "grade": false,
     "grade_id": "cell-7e096db2d9e8c24e",
     "locked": true,
     "schema_version": 3,
     "solution": false
    }
   },
   "source": [
    "# 1. Data preparation, exploration, and visualization"
   ]
  },
  {
   "cell_type": "markdown",
   "metadata": {},
   "source": [
    "<a id='task1'></a>\n",
    "<div class=\" alert alert-warning\">\n",
    "    <b>Assigment.</b> <b>Task 1.</b>\n",
    "\n",
    "Download data from the Moodle's Project section. Get yourself familiar with the folder structure and data. You can read the data files using the function given below. Each file consists one exercise type performed by single user. Data are divided on multiple folders. Note that, in each folder there is one long sequence of single exercise, except exercise 4 which is performed two times in different ways. Those two sequences belongs to same class. Do the following subtasks to pre-analyse data examples and to prepare the training and testing data for next tasks:\n",
    "<br>\n",
    "<br> \n",
    "<p> <b>1.1</b> Read raw data from the files. Prepare and divide each data file to shorter sequences using windowing method. Similar to related article \"MEx: Multi-modal Exercises Dataset for Human Activity Recognition\", use 5 second window and 3 second overlapping between windows, producing several example sequences from one exercise file for classification purposes. Windowing is working so that starting from the beginning of each long exercise sequence, take 5 seconds of data points (from synchronized acceleration data and depth images) based on the time stamps. Next, move the window 2 seconds forward and take another 5 seconds of data. Then continue this until your are at the end of sequence. Each window will consists 500x3 matrix of acceleration data and 5x192 matrix of depth image data.</p>\n",
    "<br>  \n",
    "<p> <b>1.2</b> Plot few examples of prepared data for each modalities (accelometer and depth camera). Plot acceleration sensor as multi-dimensional time-series and depth camera data as 2D image. Plot 5 second acceleration sensor and depth image sequences of person 1 and 5 performing exercises 2, 5, and 6. Take the first windowed example from the long exercise sequence. </p>\n",
    "<br>\n",
    "<p> <b>1.3</b> Split the prepared dataset to training and testing datasets so that data of persons 1-7 are used for training and data of persons 8-10 are used for testing. In next tasks, training dataset could be further divided on (multiple) validation data folds to tune the models parameters, when needed.<br>\n",
    "<br> \n",
    "Document your work, calculate the indicator statistics of training and testing datasets (number of examples, dimensions of each example) and visualize prepared examples.\n",
    "\n",
    "</div>"
   ]
  },
  {
   "cell_type": "code",
   "execution_count": 1,
   "metadata": {},
   "outputs": [],
   "source": [
    "import numpy as np\n",
    "import pandas as pd\n",
    "import matplotlib.pyplot as plt\n",
    "from os import listdir,getcwd\n",
    "    \n",
    "#Reads data from the folders\n",
    "\n",
    "def read_data_from_folders(folder_name, ID, outputform):\n",
    "    output = np.empty(outputform, dtype=object)\n",
    "    \n",
    "    for n in range(len(ID)):\n",
    "        #check files in folder.\n",
    "        currentDir = getcwd()\n",
    "        filepath = \"%s/%s/%02d\" %(currentDir, \"MEx/\" + folder_name, ID[n])\n",
    "        files = sorted(listdir(filepath))\n",
    "        count = 0\n",
    "        \n",
    "        for f in files:\n",
    "            file = filepath + \"/\" + f\n",
    "            data = pd.read_csv(file, delimiter=',', header=None)\n",
    "            output[n,count] = data \n",
    "            count += 1\n",
    "            \n",
    "    return output\n",
    "\n",
    "folders = ['act', 'dc_0.05_0.05']\n",
    "\n",
    "allData = []\n",
    "num = 0\n",
    "ids = np.arange(1,11)\n",
    "\n",
    "for fol in folders:\n",
    "    allData.append(read_data_from_folders(fol, ids, (10,8)))\n",
    "    \n"
   ]
  },
  {
   "cell_type": "markdown",
   "metadata": {},
   "source": [
    "Create windows"
   ]
  },
  {
   "cell_type": "code",
   "execution_count": 2,
   "metadata": {},
   "outputs": [],
   "source": [
    "def window_slice_start(step):\n",
    "    return lambda ds: np.arange(0, len(ds), step)\n",
    "\n",
    "def slice_to_windows(size):\n",
    "    return lambda ds: (lambda start: ds[start:(start+size)])\n",
    "\n",
    "# windowing functions for act\n",
    "slices_of_every_200 = window_slice_start(200)\n",
    "windows_of_500      = slice_to_windows(500)\n",
    "\n",
    "# windowing functions for dc\n",
    "slices_of_every_2   = window_slice_start(2)\n",
    "windows_of_5        = slice_to_windows(5)\n",
    "\n",
    "def slice_ds(ds, slicer, windower, drop_timestamp=True):\n",
    "    \n",
    "    data = ds.drop(0,1) if drop_timestamp else ds\n",
    "    \n",
    "    window_start = slicer(data)\n",
    "    window_ds = windower(data)\n",
    "    \n",
    "    return [pd.DataFrame(window_ds(start)) for start in window_start]"
   ]
  },
  {
   "cell_type": "code",
   "execution_count": 3,
   "metadata": {},
   "outputs": [],
   "source": [
    "accelometer_data, depth_camera_data = allData\n",
    "\n",
    "windowed_act_data = list(map(\n",
    "    lambda participant: \n",
    "        [slice_ds(act_file, slices_of_every_200, windows_of_500) \n",
    "        for act_file in participant],\n",
    "    accelometer_data\n",
    "))\n",
    "\n",
    "windowed_dc_data = list(map(\n",
    "    lambda participant: \n",
    "        [slice_ds(dc_file, slices_of_every_2, windows_of_5) \n",
    "        for dc_file in participant],\n",
    "    depth_camera_data\n",
    "))"
   ]
  },
  {
   "cell_type": "markdown",
   "metadata": {},
   "source": [
    "1.2\n",
    "1. Plot few examples of prepared data for each modalities (accelometer and depth camera). \n",
    "2. Plot acceleration sensor as multi-dimensional time-series and depth camera data as 2D image. \n",
    " "
   ]
  },
  {
   "cell_type": "code",
   "execution_count": 4,
   "metadata": {},
   "outputs": [
    {
     "data": {
      "image/png": "[encoded data removed]",
      "text/plain": [
       "<Figure size 1080x216 with 3 Axes>"
      ]
     },
     "metadata": {
      "needs_background": "light"
     },
     "output_type": "display_data"
    }
   ],
   "source": [
    "f = plt.figure(figsize=(15,3))\n",
    "\n",
    "f.add_subplot(1,3,1)\n",
    "plt.plot(windowed_act_data[0][0][0])\n",
    "\n",
    "f.add_subplot(1,3,2)\n",
    "plt.plot(windowed_act_data[0][1][5])\n",
    "\n",
    "f.add_subplot(1,3,3)\n",
    "plt.plot(windowed_act_data[0][5][6])\n",
    "\n",
    "plt.show()"
   ]
  },
  {
   "cell_type": "code",
   "execution_count": 5,
   "metadata": {},
   "outputs": [
    {
     "data": {
      "image/png": "[encoded data removed]",
      "text/plain": [
       "<Figure size 1080x216 with 3 Axes>"
      ]
     },
     "metadata": {
      "needs_background": "light"
     },
     "output_type": "display_data"
    }
   ],
   "source": [
    "to_plot = [\n",
    "    windowed_dc_data[0][0][0],\n",
    "    windowed_dc_data[0][1][5],\n",
    "    windowed_dc_data[0][5][6]\n",
    "]\n",
    "\n",
    "def depth_camera_to_img(data,dim=(16, int(192/16))):\n",
    "    return data.iloc[0].to_numpy().reshape(dim[0],dim[1])\n",
    "\n",
    "f = plt.figure(figsize=(15,3))\n",
    "\n",
    "for i, I in enumerate(to_plot):\n",
    "    f.add_subplot(1,3,i+1)\n",
    "    plt.imshow(depth_camera_to_img(I))\n",
    "\n",
    "plt.show()"
   ]
  },
  {
   "cell_type": "markdown",
   "metadata": {},
   "source": [
    "3. Plot 5 second acceleration sensor and depth image sequences of person 1 and 5 performing exercises 2, 5, and 6. \n",
    "4. Take the first windowed example from the long exercise sequence."
   ]
  },
  {
   "cell_type": "code",
   "execution_count": 6,
   "metadata": {},
   "outputs": [],
   "source": [
    "from itertools import combinations\n",
    "\n",
    "ex_indices = [1,5,6]\n",
    "participants = [0,4]\n",
    "\n",
    "to_plot = [(p,e) \n",
    "           for p in participants\n",
    "           for e in ex_indices]\n",
    "\n",
    "act_plot = [windowed_act_data[p][e] for p,e in to_plot]\n",
    "dc_plot  = [ windowed_dc_data[p][e] for p,e in to_plot]"
   ]
  },
  {
   "cell_type": "markdown",
   "metadata": {},
   "source": [
    "### Plot accelometer and depth camera data for participant 1 and 2 for exercises 2, 5 and 6."
   ]
  },
  {
   "cell_type": "code",
   "execution_count": 7,
   "metadata": {},
   "outputs": [
    {
     "data": {
      "image/png": "[encoded data removed]",
      "text/plain": [
       "<Figure size 864x144 with 1 Axes>"
      ]
     },
     "metadata": {
      "needs_background": "light"
     },
     "output_type": "display_data"
    },
    {
     "data": {
      "image/png": "[encoded data removed]",
      "text/plain": [
       "<Figure size 1008x144 with 5 Axes>"
      ]
     },
     "metadata": {
      "needs_background": "light"
     },
     "output_type": "display_data"
    },
    {
     "data": {
      "image/png": "[encoded data removed]",
      "text/plain": [
       "<Figure size 864x144 with 1 Axes>"
      ]
     },
     "metadata": {
      "needs_background": "light"
     },
     "output_type": "display_data"
    },
    {
     "data": {
      "image/png": "[encoded data removed]",
      "text/plain": [
       "<Figure size 1008x144 with 5 Axes>"
      ]
     },
     "metadata": {
      "needs_background": "light"
     },
     "output_type": "display_data"
    },
    {
     "data": {
      "image/png": "[encoded data removed]",
      "text/plain": [
       "<Figure size 864x144 with 1 Axes>"
      ]
     },
     "metadata": {
      "needs_background": "light"
     },
     "output_type": "display_data"
    },
    {
     "data": {
      "image/png": "[encoded data removed]",
      "text/plain": [
       "<Figure size 1008x144 with 5 Axes>"
      ]
     },
     "metadata": {
      "needs_background": "light"
     },
     "output_type": "display_data"
    },
    {
     "data": {
      "image/png": "[encoded data removed]",
      "text/plain": [
       "<Figure size 864x144 with 1 Axes>"
      ]
     },
     "metadata": {
      "needs_background": "light"
     },
     "output_type": "display_data"
    },
    {
     "data": {
      "image/png": "[encoded data removed]",
      "text/plain": [
       "<Figure size 1008x144 with 5 Axes>"
      ]
     },
     "metadata": {
      "needs_background": "light"
     },
     "output_type": "display_data"
    },
    {
     "data": {
      "image/png": "[encoded data removed]",
      "text/plain": [
       "<Figure size 864x144 with 1 Axes>"
      ]
     },
     "metadata": {
      "needs_background": "light"
     },
     "output_type": "display_data"
    },
    {
     "data": {
      "image/png": "[encoded data removed]",
      "text/plain": [
       "<Figure size 1008x144 with 5 Axes>"
      ]
     },
     "metadata": {
      "needs_background": "light"
     },
     "output_type": "display_data"
    },
    {
     "data": {
      "image/png": "[encoded data removed]",
      "text/plain": [
       "<Figure size 864x144 with 1 Axes>"
      ]
     },
     "metadata": {
      "needs_background": "light"
     },
     "output_type": "display_data"
    },
    {
     "data": {
      "image/png": "[encoded data removed]",
      "text/plain": [
       "<Figure size 1008x144 with 5 Axes>"
      ]
     },
     "metadata": {
      "needs_background": "light"
     },
     "output_type": "display_data"
    }
   ],
   "source": [
    "for i in range(6):\n",
    "    f = plt.figure(figsize=(12,2))\n",
    "    A = act_plot[i]\n",
    "    \n",
    "    ex = ex_indices[i%3]\n",
    "    participant = 1 if i <=2 else 2\n",
    "    \n",
    "    plt.title(\"Participant {} Excercize {}: accelometer data and depth camera view\".format(participant, ex))\n",
    "    \n",
    "    plt.plot(A[0])   \n",
    "\n",
    "    plt.show()\n",
    "\n",
    "    f = plt.figure(figsize=(14,2))\n",
    "\n",
    "    for k in range(5):\n",
    "        f.add_subplot(1,5,k+1)\n",
    "        sec = k\n",
    "        plt.imshow(dc_plot[i][0].iloc[sec].to_numpy().reshape(16,int(192/16)))"
   ]
  },
  {
   "cell_type": "code",
   "execution_count": null,
   "metadata": {},
   "outputs": [],
   "source": [
    "  "
   ]
  },
  {
   "cell_type": "markdown",
   "metadata": {},
   "source": [
    "# 2. Feature extraction and fusion for unimodal classification"
   ]
  },
  {
   "cell_type": "markdown",
   "metadata": {},
   "source": [
    "<a id='task2'></a>\n",
    "<div class=\" alert alert-warning\">\n",
    "    <b>Assigment.</b> <b>Task 2.</b>\n",
    "\n",
    "Use the training dataset prepared in task 1. to build models based on the combination of principal component analysis (PCA), linear discriminant analysis (LDA), and nearest neighbour (NN) classifier for each modality separately and evaluate the model on test dataset. Do the subtasks given as\n",
    "<br>\n",
    "<br>\n",
    "<p> <b>2.1</b> Calculate PCA and LDA transformations to reduce the dimensionality of accelerometer data (e.g., using scikit-learn implementations). Before transformations downsample data from 100 Hz to 25 Hz (using scipy.signal.resample) to get 125x3 matrix of data for each 5 sec window. You should also standardize the values to zero mean and unit variance before the transformations. \n",
    "    \n",
    "Using training dataset, fit PCA with 5-dimensional subspace (i.e., choosing the 5 largest principal components) and fit LDA with 5-dimensional subspace. \n",
    "    \n",
    "Transform both train and test examples to this low-dimensional feature representation. Concatenate each sequence to single vector size of 3x(5+5). Perform the fusion of PCA and LDA similar manner as presented in Lecture 3 (pages-19-20) using NN method. Evaluate the performance on testset. Show confusion matrix and F1 scores of the results. </p>\n",
    "<br>\n",
    "<p> <b>2.2</b> Use PCA and LDA transformations to reduce the dimensionality of depth images. You should also standardize the values to zero mean and unit variance before the transformations. Fit PCA and LDA for all training images (12x16, 192-dimensional in vectorized form) by choosing 5-dimensional subspace for both PCA and LDA. Transform both train and test examples to this low-dimensional feature representation. Concatenate each sequence to single vector size of 5x1x(5+5). Similar to task 2.1, do the PCA and LDA fusion using NN and evaluate the performance on testset. Show confusion matrix and F1 scores of the results. </p>\n",
    "<br> \n",
    "Document your work, evaluate the results, and analyse the outcomes in each subtasks 2.1-2.2.\n",
    "    \n",
    "</div>"
   ]
  },
  {
   "cell_type": "code",
   "execution_count": 8,
   "metadata": {},
   "outputs": [],
   "source": [
    "from sklearn.preprocessing import StandardScaler\n",
    "from scipy.signal import resample\n",
    "from sklearn.decomposition import PCA"
   ]
  },
  {
   "cell_type": "markdown",
   "metadata": {},
   "source": [
    "Test the behavior of resample and StandardScaler."
   ]
  },
  {
   "cell_type": "code",
   "execution_count": 9,
   "metadata": {},
   "outputs": [
    {
     "data": {
      "text/plain": [
       "(125, 3)"
      ]
     },
     "execution_count": 9,
     "metadata": {},
     "output_type": "execute_result"
    }
   ],
   "source": [
    "t = windowed_act_data[0][0][0]\n",
    "r = resample(t,125)\n",
    "scl = StandardScaler().fit(r)\n",
    "scl.mean_\n",
    "# array([-0.45915139, -0.62001112,  0.2310757 ])\n",
    "scl.scale_\n",
    "# array([0.11539072, 0.22094048, 0.51254617])\n",
    "\n",
    "s = scl.transform(t)\n",
    "s.mean(axis=0)\n",
    "# array([-9.94759830e-16,  3.41060513e-16, -1.13686838e-16])\n",
    "s.std(axis=0)\n",
    "# array([1.00120432, 1.00056203, 1.00058575])\n",
    "r.shape\n",
    "# (125, 3)"
   ]
  },
  {
   "cell_type": "markdown",
   "metadata": {},
   "source": [
    "Resample and normalize a dataframe, use 125 as default framerate"
   ]
  },
  {
   "cell_type": "code",
   "execution_count": 53,
   "metadata": {},
   "outputs": [
    {
     "name": "stderr",
     "output_type": "stream",
     "text": [
      "<ipython-input-53-101d971331d9>:18: VisibleDeprecationWarning: Creating an ndarray from ragged nested sequences (which is a list-or-tuple of lists-or-tuples-or ndarrays with different lengths or shapes) is deprecated. If you meant to do this, you must specify 'dtype=object' when creating the ndarray\n",
      "  resampled.append(np.array(p_w))\n"
     ]
    },
    {
     "data": {
      "text/plain": [
       "(10, 8)"
      ]
     },
     "execution_count": 53,
     "metadata": {},
     "output_type": "execute_result"
    }
   ],
   "source": [
    "def resample_n_normalize_window(W, sample_rate=125):\n",
    "    W_resampled = resample(W,sample_rate)\n",
    "    return StandardScaler().fit(W_resampled).transform(W_resampled)\n",
    "\n",
    "\n",
    "resampled = list()\n",
    "labels = []\n",
    "for p in windowed_act_data:\n",
    "    p_w = list()\n",
    "    for i, e in enumerate(p):\n",
    "\n",
    "        p_w.append(np.array([resample(w, 125) \n",
    "                               # for window in exercise\n",
    "                    for w in e # but only if filter\n",
    "                               # window 5 sec\n",
    "                    if w.shape[0] == 500]))\n",
    "        \n",
    "    resampled.append(np.array(p_w))\n",
    "    \n"
   ]
  },
  {
   "cell_type": "code",
   "execution_count": 179,
   "metadata": {},
   "outputs": [
    {
     "name": "stdout",
     "output_type": "stream",
     "text": [
      "(8,)\n",
      "(678, 129)\n",
      "(8,)\n",
      "(639, 129)\n",
      "(8,)\n",
      "(537, 129)\n",
      "(8,)\n",
      "(564, 129)\n",
      "(8,)\n",
      "(726, 129)\n",
      "(8,)\n",
      "(618, 129)\n",
      "(8,)\n",
      "(699, 129)\n",
      "(8,)\n",
      "(594, 129)\n",
      "(8,)\n",
      "(609, 129)\n",
      "(8,)\n",
      "(591, 129)\n"
     ]
    }
   ],
   "source": [
    "\n",
    "# collect labels for the LDA phase eight\n",
    "# files per each participant each of the \n",
    "# exercise has one but fourth has two files\n",
    "get_label = lambda i: [1,2,3,4,4,5,6,7][i]\n",
    "\n",
    "\n",
    "resampled_t = list()\n",
    "for p_i, p in enumerate(resampled):\n",
    "    print(np.array(p).shape)\n",
    "    p_ex = list()\n",
    "    for e_i, e in enumerate(p):\n",
    "        #print(\"\\t\", np.array(e).shape)\n",
    "        ex_w = list()\n",
    "        for i, w in enumerate(e):\n",
    "            t = np.array(w).transpose()\n",
    "            # print(\"\\t\\t w:{}\".format(i), t.shape)\n",
    "            ex_w.append(t)\n",
    "            \n",
    "        exercise_windows = np.vstack(ex_w)\n",
    "        z,w = exercise_windows.shape\n",
    "        \n",
    "        labels = np.vstack([\n",
    "            np.repeat([p_i + 1],z), \n",
    "            np.repeat([get_label(e_i)],z) , \n",
    "            np.repeat([i],z),\n",
    "            np.tile(['x','y','z'],int(z/3))]\n",
    "        ).transpose()\n",
    "        \n",
    "        p_ex.append(np.hstack([labels, exercise_windows]))\n",
    "    \n",
    "    stacked = np.vstack(p_ex)\n",
    "    print(stacked.shape)\n",
    "    resampled_t.append(stacked)\n",
    "    \n",
    "def flatten_2d_array(arr):\n",
    "    return np.array(reduce(lambda a,b:a+b, arr,[]))\n",
    "\n",
    "R = pd.DataFrame(\n",
    "    np.vstack(resampled_t), \n",
    "    columns=np.hstack([\n",
    "        #['participant','exercise', 'window', 'dimension'], \n",
    "        [1111,2222,3333,4444],\n",
    "        np.arange(0,125)\n",
    "    ]))\n",
    "\n",
    "#np.vstack([np.repeat(['foo'],2), np.repeat(['w'],2)]).transpose()\n",
    "R.to_csv('act_data_125.csv')"
   ]
  },
  {
   "cell_type": "code",
   "execution_count": 182,
   "metadata": {},
   "outputs": [],
   "source": [
    "D = R[np.arange(0,125)].astype(float)\n",
    "\n",
    "R['mean'] = D.mean(axis=1)\n",
    "R['std']  = D.std(axis=1)\n",
    "\n",
    "R.to_csv('act_data_125_mean_std.csv')"
   ]
  },
  {
   "cell_type": "markdown",
   "metadata": {},
   "source": [
    "Create normalized and resampled version of accelometer data. Exclude windows less than 5 sec.\n",
    "\n",
    "2.1 \n",
    "- Before transformations downsample data from 100 Hz to 25 Hz (using scipy.signal.resample) to get 125x3 matrix of data for each 5 sec window. \n",
    "- You should also standardize the values to zero mean and unit variance before the transformations. Using training dataset, "
   ]
  },
  {
   "cell_type": "code",
   "execution_count": 11,
   "metadata": {},
   "outputs": [
    {
     "data": {
      "text/plain": [
       "0"
      ]
     },
     "execution_count": 11,
     "metadata": {},
     "output_type": "execute_result"
    }
   ],
   "source": [
    "\n",
    "reshaped_act_data = list()\n",
    "labels = []\n",
    "for p in windowed_act_data:\n",
    "    p_w = list()\n",
    "    for i, e in enumerate(p):\n",
    "\n",
    "        p_w.append([resample_n_normalize_window(w) \n",
    "                               # for window in exercise\n",
    "                    for w in e # but only if filter\n",
    "                               # window 5 sec\n",
    "                    if w.shape[0] == 500])\n",
    "        \n",
    "    reshaped_act_data.append(p_w)\n",
    "    \n",
    "# windowed_act_data\n",
    "# (10, 8, 33)\n",
    "# reshaped_act_data\n",
    "# (10, 8, 33)\n",
    "len(labels)"
   ]
  },
  {
   "cell_type": "code",
   "execution_count": 12,
   "metadata": {},
   "outputs": [
    {
     "name": "stdout",
     "output_type": "stream",
     "text": [
      "training data: (1685, 3, 125)\n",
      "    test data:  (400, 3, 125)\n"
     ]
    }
   ],
   "source": [
    "training_participants = [reshaped_act_data[p] for p in np.arange(0,8)]\n",
    "test_participants     = [reshaped_act_data[p] for p in np.arange(8,10)]\n",
    "\n",
    "training_data   = list() # concat x,y,x\n",
    "training_data_3 = list() # for each window\n",
    "test_data       = list() # concat x,y,z\n",
    "test_data_3     = list() # for each window\n",
    "training_labels = list()\n",
    "test_labels     = list()\n",
    "\n",
    "\n",
    "# collect labels for the LDA phase eight\n",
    "# files per each participant each of the \n",
    "# exercise has one but fourth has two files\n",
    "get_label = lambda i: [1,2,3,4,4,5,6,7][i]\n",
    "\n",
    "for p in training_participants:\n",
    "    for i, e in enumerate(p):\n",
    "        label = get_label(i)\n",
    "        for w in e:\n",
    "            training_labels.append(label)\n",
    "            training_data.append(w.transpose())\n",
    "            \n",
    "for p in test_participants:\n",
    "    for i, e in enumerate(p):\n",
    "        label = get_label(i)\n",
    "        for w in e:\n",
    "            test_labels.append(label)\n",
    "            test_data.append(w.transpose())\n",
    "\n",
    "X = np.array(training_data)\n",
    "T = np.array(test_data)\n",
    "\n",
    "print(\"training data: {}\\n    test data:  {}\".format(X.shape, T.shape)) "
   ]
  },
  {
   "cell_type": "code",
   "execution_count": null,
   "metadata": {},
   "outputs": [],
   "source": []
  },
  {
   "cell_type": "code",
   "execution_count": 13,
   "metadata": {},
   "outputs": [
    {
     "data": {
      "text/plain": [
       "array([[[ True,  True,  True,  True,  True],\n",
       "        [ True,  True,  True,  True,  True],\n",
       "        [ True,  True,  True,  True,  True]],\n",
       "\n",
       "       [[ True,  True,  True,  True,  True],\n",
       "        [ True,  True,  True,  True,  True],\n",
       "        [ True,  True,  True,  True,  True]],\n",
       "\n",
       "       [[ True,  True,  True,  True,  True],\n",
       "        [ True,  True,  True,  True,  True],\n",
       "        [ True,  True,  True,  True,  True]]])"
      ]
     },
     "execution_count": 13,
     "metadata": {},
     "output_type": "execute_result"
    }
   ],
   "source": [
    "# Sequence is used to describe an exercise routine\n",
    "# concatenate each exercise sequence to a 3x5 representation with \n",
    "\n",
    "# Test that the reshape does what expected\n",
    "pca = PCA(n_components=5)\n",
    "t = np.array([\n",
    "    np.ones((3,5)),\n",
    "    np.ones((3,5)) * 2,\n",
    "    np.ones((3,5)) * 3,\n",
    "])\n",
    "collapsed = t.reshape(9,5)\n",
    "reconstructed = collapsed.reshape(3, 3, 5)\n",
    "reconstructed == t"
   ]
  },
  {
   "cell_type": "code",
   "execution_count": 14,
   "metadata": {},
   "outputs": [
    {
     "data": {
      "text/plain": [
       "[array([[1.1, 1.1, 1.1, 1.1, 1.1, 2.1, 2.1, 2.1, 2.1, 2.1],\n",
       "        [1.1, 1.1, 1.1, 1.1, 1.1, 2.1, 2.1, 2.1, 2.1, 2.1],\n",
       "        [1.1, 1.1, 1.1, 1.1, 1.1, 2.1, 2.1, 2.1, 2.1, 2.1]]),\n",
       " array([[1.2, 1.2, 1.2, 1.2, 1.2, 2.2, 2.2, 2.2, 2.2, 2.2],\n",
       "        [1.2, 1.2, 1.2, 1.2, 1.2, 2.2, 2.2, 2.2, 2.2, 2.2],\n",
       "        [1.2, 1.2, 1.2, 1.2, 1.2, 2.2, 2.2, 2.2, 2.2, 2.2]]),\n",
       " array([[1.3, 1.3, 1.3, 1.3, 1.3, 2.3, 2.3, 2.3, 2.3, 2.3],\n",
       "        [1.3, 1.3, 1.3, 1.3, 1.3, 2.3, 2.3, 2.3, 2.3, 2.3],\n",
       "        [1.3, 1.3, 1.3, 1.3, 1.3, 2.3, 2.3, 2.3, 2.3, 2.3]])]"
      ]
     },
     "execution_count": 14,
     "metadata": {},
     "output_type": "execute_result"
    }
   ],
   "source": [
    "# test joining two 3x5 matrices to 3x(5+5)\n",
    "import cv2 \n",
    "\n",
    "a = np.array([\n",
    "    np.ones((3,5)) * 1.1,\n",
    "    np.ones((3,5)) * 1.2,\n",
    "    np.ones((3,5)) * 1.3,\n",
    "])\n",
    "b = np.array([\n",
    "    np.ones((3,5)) * 2.1,\n",
    "    np.ones((3,5)) * 2.2,\n",
    "    np.ones((3,5)) * 2.3,\n",
    "])\n",
    "r = np.array([\n",
    "    k.shape\n",
    "    for k in a \n",
    "    for l in b ])\n",
    "    \n",
    "x,y,z = a.shape\n",
    "\n",
    "\n",
    "r = np.zeros((3,10))\n",
    "for i, w in enumerate(a):\n",
    "    for j, f in enumerate(w):\n",
    "        c = np.concatenate((a[i][j], b[i][j]))\n",
    "        r[j] = c\n",
    "\n",
    "[cv2.hconcat([a0,b0]) for a0, b0 in zip(a,b)]"
   ]
  },
  {
   "cell_type": "code",
   "execution_count": 27,
   "metadata": {},
   "outputs": [
    {
     "data": {
      "text/plain": [
       "array([[[0., 1.],\n",
       "        [0., 1.],\n",
       "        [0., 1.],\n",
       "        [0., 1.],\n",
       "        [0., 1.],\n",
       "        [0., 1.],\n",
       "        [0., 1.],\n",
       "        [0., 1.],\n",
       "        [0., 1.],\n",
       "        [0., 1.]],\n",
       "\n",
       "       [[0., 1.],\n",
       "        [0., 1.],\n",
       "        [0., 1.],\n",
       "        [0., 1.],\n",
       "        [0., 1.],\n",
       "        [0., 1.],\n",
       "        [0., 1.],\n",
       "        [0., 1.],\n",
       "        [0., 1.],\n",
       "        [0., 1.]],\n",
       "\n",
       "       [[0., 1.],\n",
       "        [0., 1.],\n",
       "        [0., 1.],\n",
       "        [0., 1.],\n",
       "        [0., 1.],\n",
       "        [0., 1.],\n",
       "        [0., 1.],\n",
       "        [0., 1.],\n",
       "        [0., 1.],\n",
       "        [0., 1.]],\n",
       "\n",
       "       [[0., 1.],\n",
       "        [0., 1.],\n",
       "        [0., 1.],\n",
       "        [0., 1.],\n",
       "        [0., 1.],\n",
       "        [0., 1.],\n",
       "        [0., 1.],\n",
       "        [0., 1.],\n",
       "        [0., 1.],\n",
       "        [0., 1.]],\n",
       "\n",
       "       [[0., 1.],\n",
       "        [0., 1.],\n",
       "        [0., 1.],\n",
       "        [0., 1.],\n",
       "        [0., 1.],\n",
       "        [0., 1.],\n",
       "        [0., 1.],\n",
       "        [0., 1.],\n",
       "        [0., 1.],\n",
       "        [0., 1.]]])"
      ]
     },
     "execution_count": 27,
     "metadata": {},
     "output_type": "execute_result"
    }
   ],
   "source": [
    "from sklearn.discriminant_analysis import LinearDiscriminantAnalysis as LDA\n",
    "import cv2\n",
    "\n",
    "# transform matrix [w, (x,y,z), (m125_x, m125_y, m125_z)]\n",
    "# to format        [(x,y,z),    (m125_x, m125_y, m125_z)]\n",
    "# for dimensionality  reduction and reconstruct\n",
    "# back to          [w, (x,y,z), (m5_x, m5_y, m5_z)]\n",
    "\n",
    "def collapse_windows_pca(windows, n=5):\n",
    "    \"\"\"\n",
    "    windows is an array of (3, n_samples)\n",
    "    row for each x,y,z. Should have written \n",
    "    this as a dataframe.\n",
    "    \"\"\"\n",
    "    x,y,z     = windows.shape\n",
    "    \n",
    "    flattened = windows.reshape((x*y, z))\n",
    "    collapsed = PCA(n_components=n).fit_transform(flattened)\n",
    "    return      collapsed.reshape(x,y,n)\n",
    "\n",
    "\n",
    "def collapse_windows_lda(windows, labels, n=5):\n",
    "    \"\"\"\n",
    "    windows is an array of (3, n_samples)\n",
    "    row for each x,y,z. Should have written\n",
    "    this as a Dataframe...\n",
    "    \"\"\"\n",
    "    x,y,z     = windows.shape\n",
    "    labels_rep= np.repeat(labels,y)\n",
    "    flattened = windows.reshape((x*y, z))\n",
    "    collapsed = LDA(n_components=n).fit_transform(flattened,labels_rep)\n",
    "    return      collapsed.reshape(x,y,n)\n",
    "\n",
    "\n",
    "def join_pca_lda(a,b):\n",
    "    \n",
    "    if a.shape != b.shape:\n",
    "        raise Exception('not gonna work, dimensions do not match!')\n",
    "        \n",
    "    return np.array([cv2.hconcat([a0,b0]) for a0, b0 in zip(a,b)])\n",
    "\n",
    "\n",
    "join_pca_lda(a,b)"
   ]
  },
  {
   "cell_type": "code",
   "execution_count": 16,
   "metadata": {},
   "outputs": [
    {
     "data": {
      "text/plain": [
       "(1685, 3, 10)"
      ]
     },
     "execution_count": 16,
     "metadata": {},
     "output_type": "execute_result"
    }
   ],
   "source": [
    "X_PCA = collapse_windows_pca(X)\n",
    "X_LDA = collapse_windows_lda(X, training_labels)\n",
    "X_F   = join_pca_lda(X_PCA, X_LDA)\n",
    "X_F.shape"
   ]
  },
  {
   "cell_type": "code",
   "execution_count": 17,
   "metadata": {},
   "outputs": [
    {
     "data": {
      "text/plain": [
       "(400, 3, 10)"
      ]
     },
     "execution_count": 17,
     "metadata": {},
     "output_type": "execute_result"
    }
   ],
   "source": [
    "T_PCA = collapse_windows_pca(T)\n",
    "T_LDA = collapse_windows_lda(T, test_labels)\n",
    "T_F   = join_pca_lda(T_PCA, T_LDA)\n",
    "T_F.shape"
   ]
  },
  {
   "cell_type": "markdown",
   "metadata": {},
   "source": [
    "The results are validated using confusion matrices and F1 scores. F1 macro score is given as \n",
    "<br>\n",
    "<br>\n",
    "$\n",
    "\\begin{equation}\n",
    "F1_{macro} = \\frac{1}{N} \\sum_i^N F1_i,\n",
    "\\end{equation}\n",
    "$\n",
    "<br>\n",
    "<br>\n",
    "where $F1_i = 2  \\frac{precision_i * recall_i}{precision_i + recall_i}$, and $N$ is the number of classes.\n",
    "<br>"
   ]
  },
  {
   "cell_type": "code",
   "execution_count": 18,
   "metadata": {},
   "outputs": [
    {
     "data": {
      "text/plain": [
       "array([[0, 1],\n",
       "       [1, 2],\n",
       "       [2, 1]])"
      ]
     },
     "execution_count": 18,
     "metadata": {},
     "output_type": "execute_result"
    }
   ],
   "source": [
    "# todo: continue from here\n",
    "from sklearn.neighbors import NearestNeighbors\n",
    "\n",
    "nbrs = NearestNeighbors(n_neighbors=2, algorithm='ball_tree').fit(X_F[0])\n",
    "distances, indices = nbrs.kneighbors(X_F[0])\n",
    "indices\n"
   ]
  },
  {
   "cell_type": "markdown",
   "metadata": {},
   "source": [
    "![19](page-19.png)\n",
    "![20](page-20.png)"
   ]
  },
  {
   "cell_type": "markdown",
   "metadata": {},
   "source": [
    " 2.2 \n",
    " - Use PCA and LDA transformations to reduce the dimensionality of depth images. \n",
    " - Standardize the values to zero mean and unit variance before the transformations. \n",
    " - Fit PCA and LDA for all training images (12x16, 192-dimensional in vectorized form) by choosing 5-dimensional subspace for both PCA and LDA. \n",
    " - Transform both train and test examples to this low-dimensional feature representation. \n",
    " - Concatenate each sequence to single vector size of 5x1x(5+5). \n",
    " - Similar to task 2.1, do the PCA and LDA fusion using NN and evaluate the performance on testset. Show confusion matrix and F1 scores of the results.\n"
   ]
  },
  {
   "cell_type": "code",
   "execution_count": 19,
   "metadata": {},
   "outputs": [
    {
     "data": {
      "text/plain": [
       "array([[ 0.1 ,  0.2 ,  0.25,  0.5 ,  1.  ,  2.  ,  2.5 ,  5.  , 10.  ,\n",
       "        20.  ],\n",
       "       [ 0.  ,  0.  ,  0.  ,  0.  ,  0.  ,  0.  ,  0.  ,  0.  ,  0.  ,\n",
       "         0.  ],\n",
       "       [ 0.  ,  0.  ,  0.  ,  0.  ,  0.  ,  0.  ,  0.  ,  0.  ,  0.  ,\n",
       "         0.  ],\n",
       "       [ 0.  ,  0.  ,  0.  ,  0.  ,  0.  ,  0.  ,  0.  ,  0.  ,  0.  ,\n",
       "         0.  ],\n",
       "       [ 0.  ,  0.  ,  0.  ,  0.  ,  0.  ,  0.  ,  0.  ,  0.  ,  0.  ,\n",
       "         0.  ],\n",
       "       [ 0.  ,  0.  ,  0.  ,  0.  ,  0.  ,  0.  ,  0.  ,  0.  ,  0.  ,\n",
       "         0.  ],\n",
       "       [ 1.  ,  1.  ,  1.  ,  1.  ,  1.  ,  1.  ,  1.  ,  1.  ,  1.  ,\n",
       "         1.  ],\n",
       "       [ 1.  ,  1.  ,  1.  ,  1.  ,  1.  ,  1.  ,  1.  ,  1.  ,  1.  ,\n",
       "         1.  ],\n",
       "       [ 1.  ,  1.  ,  1.  ,  1.  ,  1.  ,  1.  ,  1.  ,  1.  ,  1.  ,\n",
       "         1.  ],\n",
       "       [ 1.  ,  1.  ,  1.  ,  1.  ,  1.  ,  1.  ,  1.  ,  1.  ,  1.  ,\n",
       "         1.  ],\n",
       "       [ 1.  ,  1.  ,  1.  ,  1.  ,  1.  ,  1.  ,  1.  ,  1.  ,  1.  ,\n",
       "         1.  ]])"
      ]
     },
     "execution_count": 19,
     "metadata": {},
     "output_type": "execute_result"
    }
   ],
   "source": [
    "l = np.ones((2,1)) * 3\n",
    "np.hstack([np.zeros((2,2)),l])\n",
    "x = np.empty((1,10))\n",
    "a = np.zeros((5,10))\n",
    "b = np.ones((5,10))\n",
    "np.vstack([x,a,b])"
   ]
  },
  {
   "cell_type": "code",
   "execution_count": 20,
   "metadata": {},
   "outputs": [
    {
     "name": "stderr",
     "output_type": "stream",
     "text": [
      "<ipython-input-20-4600d3199043>:6: VisibleDeprecationWarning: Creating an ndarray from ragged nested sequences (which is a list-or-tuple of lists-or-tuples-or ndarrays with different lengths or shapes) is deprecated. If you meant to do this, you must specify 'dtype=object' when creating the ndarray\n",
      "  participant_images = np.array(windowed_dc_data)\n"
     ]
    }
   ],
   "source": [
    "def normalize_image(I):\n",
    "    return StandardScaler().fit(I).transform(I)\n",
    "\n",
    "\n",
    "\n",
    "participant_images = np.array(windowed_dc_data)\n",
    "\n",
    "training_normalized_imgs = list()\n",
    "test_normalized_imgs     = list()\n",
    "\n",
    "get_label = lambda i: [1,2,3,4,4,5,6,7][i]\n",
    "\n",
    "pca = PCA(n_components=5)\n",
    "\n",
    "for participant_i, p in enumerate(participant_images):\n",
    "    \n",
    "    p_ex = list()\n",
    "    # print(\"p: \", participant_i)\n",
    "    for e_i, e in enumerate(p):\n",
    "        e_imgs = list()\n",
    "        \n",
    "        for i in e:\n",
    "            if len(i) == 5:\n",
    "                n = np.array(normalize_image(i))\n",
    "                # print(\"\\t\", n.shape)\n",
    "                e_imgs.append(n)\n",
    "                \n",
    "        E = np.array(e_imgs, dtype='object')\n",
    "    \n",
    "        row_count = E.shape[0]*E.shape[1]\n",
    "        n_samples   = E.shape[2]\n",
    "        \n",
    "        # get the label\n",
    "        label = get_label(e_i)\n",
    "        \n",
    "        # create label vector \n",
    "        labels = np.ones((E.shape[0]*E.shape[1],1)) * label\n",
    "\n",
    "        ER = E.reshape(E.shape[0]*E.shape[1], E.shape[2])\n",
    "        ERL = np.hstack([labels, ER])\n",
    "        \n",
    "        # print(\"\\t\\tex: \", label, \", data: \", ERL.shape)\n",
    "        \n",
    "        p_ex.append(ERL)\n",
    "    \n",
    "    P = np.vstack(p_ex)\n",
    "    \n",
    "    # print(\"P:  \", P.shape)\n",
    "\n",
    "    if participant_i < 8:\n",
    "        training_normalized_imgs.append(P)\n",
    "    else:\n",
    "        test_normalized_imgs.append(P)\n",
    "        \n",
    "from functools import reduce\n",
    "\n",
    "def flatten_2d_array(arr):\n",
    "    return np.array(reduce(lambda a,b:a+b, arr,[]))\n",
    "\n",
    "\n",
    "XI_norm = pd.DataFrame(np.vstack(training_normalized_imgs))\n",
    "TI_norm = pd.DataFrame(np.vstack(test_normalized_imgs))\n"
   ]
  },
  {
   "cell_type": "code",
   "execution_count": 21,
   "metadata": {},
   "outputs": [
    {
     "data": {
      "text/html": [
       "<div>\n",
       "<style scoped>\n",
       "    .dataframe tbody tr th:only-of-type {\n",
       "        vertical-align: middle;\n",
       "    }\n",
       "\n",
       "    .dataframe tbody tr th {\n",
       "        vertical-align: top;\n",
       "    }\n",
       "\n",
       "    .dataframe thead th {\n",
       "        text-align: right;\n",
       "    }\n",
       "</style>\n",
       "<table border=\"1\" class=\"dataframe\">\n",
       "  <thead>\n",
       "    <tr style=\"text-align: right;\">\n",
       "      <th></th>\n",
       "      <th>1</th>\n",
       "      <th>2</th>\n",
       "      <th>3</th>\n",
       "      <th>4</th>\n",
       "      <th>5</th>\n",
       "      <th>6</th>\n",
       "      <th>7</th>\n",
       "      <th>8</th>\n",
       "      <th>9</th>\n",
       "      <th>10</th>\n",
       "      <th>...</th>\n",
       "      <th>183</th>\n",
       "      <th>184</th>\n",
       "      <th>185</th>\n",
       "      <th>186</th>\n",
       "      <th>187</th>\n",
       "      <th>188</th>\n",
       "      <th>189</th>\n",
       "      <th>190</th>\n",
       "      <th>191</th>\n",
       "      <th>192</th>\n",
       "    </tr>\n",
       "  </thead>\n",
       "  <tbody>\n",
       "    <tr>\n",
       "      <th>0</th>\n",
       "      <td>-1.224745</td>\n",
       "      <td>0.0</td>\n",
       "      <td>1.528942</td>\n",
       "      <td>0.0</td>\n",
       "      <td>-0.5</td>\n",
       "      <td>0.5</td>\n",
       "      <td>-0.816497</td>\n",
       "      <td>0.000000</td>\n",
       "      <td>-0.500000</td>\n",
       "      <td>0.502042</td>\n",
       "      <td>...</td>\n",
       "      <td>0.485509</td>\n",
       "      <td>1.224745</td>\n",
       "      <td>-1.0</td>\n",
       "      <td>-0.886964</td>\n",
       "      <td>-0.5</td>\n",
       "      <td>0.5</td>\n",
       "      <td>0.504884</td>\n",
       "      <td>0.5</td>\n",
       "      <td>-1.105959</td>\n",
       "      <td>0.514748</td>\n",
       "    </tr>\n",
       "    <tr>\n",
       "      <th>1</th>\n",
       "      <td>0.816497</td>\n",
       "      <td>0.0</td>\n",
       "      <td>-1.401530</td>\n",
       "      <td>0.0</td>\n",
       "      <td>-0.5</td>\n",
       "      <td>0.5</td>\n",
       "      <td>1.224745</td>\n",
       "      <td>0.000000</td>\n",
       "      <td>0.750000</td>\n",
       "      <td>0.502042</td>\n",
       "      <td>...</td>\n",
       "      <td>1.352488</td>\n",
       "      <td>1.224745</td>\n",
       "      <td>-1.0</td>\n",
       "      <td>1.222008</td>\n",
       "      <td>-0.5</td>\n",
       "      <td>0.5</td>\n",
       "      <td>0.498370</td>\n",
       "      <td>0.5</td>\n",
       "      <td>-0.047062</td>\n",
       "      <td>0.514748</td>\n",
       "    </tr>\n",
       "    <tr>\n",
       "      <th>2</th>\n",
       "      <td>-1.224745</td>\n",
       "      <td>0.0</td>\n",
       "      <td>-0.382235</td>\n",
       "      <td>0.0</td>\n",
       "      <td>-0.5</td>\n",
       "      <td>0.5</td>\n",
       "      <td>-0.816497</td>\n",
       "      <td>0.000000</td>\n",
       "      <td>-1.750000</td>\n",
       "      <td>-1.999990</td>\n",
       "      <td>...</td>\n",
       "      <td>-1.161753</td>\n",
       "      <td>-0.816497</td>\n",
       "      <td>-1.0</td>\n",
       "      <td>-0.673657</td>\n",
       "      <td>-0.5</td>\n",
       "      <td>0.5</td>\n",
       "      <td>0.498370</td>\n",
       "      <td>0.5</td>\n",
       "      <td>-1.105959</td>\n",
       "      <td>-1.171495</td>\n",
       "    </tr>\n",
       "    <tr>\n",
       "      <th>3</th>\n",
       "      <td>0.816497</td>\n",
       "      <td>0.0</td>\n",
       "      <td>-0.382235</td>\n",
       "      <td>0.0</td>\n",
       "      <td>-0.5</td>\n",
       "      <td>0.5</td>\n",
       "      <td>-0.816497</td>\n",
       "      <td>0.000000</td>\n",
       "      <td>0.750000</td>\n",
       "      <td>0.502042</td>\n",
       "      <td>...</td>\n",
       "      <td>0.485509</td>\n",
       "      <td>-0.816497</td>\n",
       "      <td>-1.0</td>\n",
       "      <td>-0.881609</td>\n",
       "      <td>-0.5</td>\n",
       "      <td>0.5</td>\n",
       "      <td>0.498370</td>\n",
       "      <td>0.5</td>\n",
       "      <td>1.129490</td>\n",
       "      <td>1.313494</td>\n",
       "    </tr>\n",
       "    <tr>\n",
       "      <th>4</th>\n",
       "      <td>0.816497</td>\n",
       "      <td>0.0</td>\n",
       "      <td>0.637059</td>\n",
       "      <td>0.0</td>\n",
       "      <td>2.0</td>\n",
       "      <td>-2.0</td>\n",
       "      <td>1.224745</td>\n",
       "      <td>0.000000</td>\n",
       "      <td>0.750000</td>\n",
       "      <td>0.493865</td>\n",
       "      <td>...</td>\n",
       "      <td>-1.161753</td>\n",
       "      <td>-0.816497</td>\n",
       "      <td>-1.0</td>\n",
       "      <td>1.220223</td>\n",
       "      <td>2.0</td>\n",
       "      <td>-2.0</td>\n",
       "      <td>-1.999994</td>\n",
       "      <td>-2.0</td>\n",
       "      <td>1.129490</td>\n",
       "      <td>-1.171495</td>\n",
       "    </tr>\n",
       "    <tr>\n",
       "      <th>...</th>\n",
       "      <td>...</td>\n",
       "      <td>...</td>\n",
       "      <td>...</td>\n",
       "      <td>...</td>\n",
       "      <td>...</td>\n",
       "      <td>...</td>\n",
       "      <td>...</td>\n",
       "      <td>...</td>\n",
       "      <td>...</td>\n",
       "      <td>...</td>\n",
       "      <td>...</td>\n",
       "      <td>...</td>\n",
       "      <td>...</td>\n",
       "      <td>...</td>\n",
       "      <td>...</td>\n",
       "      <td>...</td>\n",
       "      <td>...</td>\n",
       "      <td>...</td>\n",
       "      <td>...</td>\n",
       "      <td>...</td>\n",
       "      <td>...</td>\n",
       "    </tr>\n",
       "    <tr>\n",
       "      <th>8575</th>\n",
       "      <td>-0.500000</td>\n",
       "      <td>0.0</td>\n",
       "      <td>-1.000000</td>\n",
       "      <td>0.0</td>\n",
       "      <td>0.0</td>\n",
       "      <td>2.0</td>\n",
       "      <td>1.000000</td>\n",
       "      <td>-0.046932</td>\n",
       "      <td>0.816497</td>\n",
       "      <td>0.000000</td>\n",
       "      <td>...</td>\n",
       "      <td>0.816497</td>\n",
       "      <td>-1.000000</td>\n",
       "      <td>-0.5</td>\n",
       "      <td>0.000000</td>\n",
       "      <td>0.5</td>\n",
       "      <td>-1.0</td>\n",
       "      <td>-0.047062</td>\n",
       "      <td>-1.0</td>\n",
       "      <td>0.500000</td>\n",
       "      <td>-1.069045</td>\n",
       "    </tr>\n",
       "    <tr>\n",
       "      <th>8576</th>\n",
       "      <td>-0.500000</td>\n",
       "      <td>0.0</td>\n",
       "      <td>-1.000000</td>\n",
       "      <td>0.0</td>\n",
       "      <td>0.0</td>\n",
       "      <td>-0.5</td>\n",
       "      <td>1.000000</td>\n",
       "      <td>0.657053</td>\n",
       "      <td>-1.224745</td>\n",
       "      <td>0.000000</td>\n",
       "      <td>...</td>\n",
       "      <td>0.816497</td>\n",
       "      <td>-1.000000</td>\n",
       "      <td>-0.5</td>\n",
       "      <td>0.000000</td>\n",
       "      <td>0.5</td>\n",
       "      <td>-1.0</td>\n",
       "      <td>1.129490</td>\n",
       "      <td>-1.0</td>\n",
       "      <td>0.500000</td>\n",
       "      <td>-1.069045</td>\n",
       "    </tr>\n",
       "    <tr>\n",
       "      <th>8577</th>\n",
       "      <td>-0.500000</td>\n",
       "      <td>0.0</td>\n",
       "      <td>-1.000000</td>\n",
       "      <td>0.0</td>\n",
       "      <td>0.0</td>\n",
       "      <td>-0.5</td>\n",
       "      <td>1.000000</td>\n",
       "      <td>-1.924225</td>\n",
       "      <td>-1.224745</td>\n",
       "      <td>0.000000</td>\n",
       "      <td>...</td>\n",
       "      <td>-1.224745</td>\n",
       "      <td>-1.000000</td>\n",
       "      <td>-0.5</td>\n",
       "      <td>0.000000</td>\n",
       "      <td>0.5</td>\n",
       "      <td>-1.0</td>\n",
       "      <td>-1.105959</td>\n",
       "      <td>-1.0</td>\n",
       "      <td>-2.000000</td>\n",
       "      <td>1.603567</td>\n",
       "    </tr>\n",
       "    <tr>\n",
       "      <th>8578</th>\n",
       "      <td>-0.500000</td>\n",
       "      <td>0.0</td>\n",
       "      <td>-1.000000</td>\n",
       "      <td>0.0</td>\n",
       "      <td>0.0</td>\n",
       "      <td>-0.5</td>\n",
       "      <td>1.000000</td>\n",
       "      <td>0.657053</td>\n",
       "      <td>0.816497</td>\n",
       "      <td>0.000000</td>\n",
       "      <td>...</td>\n",
       "      <td>0.816497</td>\n",
       "      <td>-1.000000</td>\n",
       "      <td>2.0</td>\n",
       "      <td>0.000000</td>\n",
       "      <td>0.5</td>\n",
       "      <td>-1.0</td>\n",
       "      <td>1.129490</td>\n",
       "      <td>-1.0</td>\n",
       "      <td>0.500000</td>\n",
       "      <td>0.267261</td>\n",
       "    </tr>\n",
       "    <tr>\n",
       "      <th>8579</th>\n",
       "      <td>2.000000</td>\n",
       "      <td>0.0</td>\n",
       "      <td>-1.000000</td>\n",
       "      <td>0.0</td>\n",
       "      <td>0.0</td>\n",
       "      <td>-0.5</td>\n",
       "      <td>1.000000</td>\n",
       "      <td>0.657053</td>\n",
       "      <td>0.816497</td>\n",
       "      <td>0.000000</td>\n",
       "      <td>...</td>\n",
       "      <td>-1.224745</td>\n",
       "      <td>-1.000000</td>\n",
       "      <td>-0.5</td>\n",
       "      <td>0.000000</td>\n",
       "      <td>-2.0</td>\n",
       "      <td>-1.0</td>\n",
       "      <td>-1.105959</td>\n",
       "      <td>-1.0</td>\n",
       "      <td>0.500000</td>\n",
       "      <td>0.267261</td>\n",
       "    </tr>\n",
       "  </tbody>\n",
       "</table>\n",
       "<p>8580 rows × 192 columns</p>\n",
       "</div>"
      ],
      "text/plain": [
       "           1    2         3    4    5    6         7         8         9    \\\n",
       "0    -1.224745  0.0  1.528942  0.0 -0.5  0.5 -0.816497  0.000000 -0.500000   \n",
       "1     0.816497  0.0 -1.401530  0.0 -0.5  0.5  1.224745  0.000000  0.750000   \n",
       "2    -1.224745  0.0 -0.382235  0.0 -0.5  0.5 -0.816497  0.000000 -1.750000   \n",
       "3     0.816497  0.0 -0.382235  0.0 -0.5  0.5 -0.816497  0.000000  0.750000   \n",
       "4     0.816497  0.0  0.637059  0.0  2.0 -2.0  1.224745  0.000000  0.750000   \n",
       "...        ...  ...       ...  ...  ...  ...       ...       ...       ...   \n",
       "8575 -0.500000  0.0 -1.000000  0.0  0.0  2.0  1.000000 -0.046932  0.816497   \n",
       "8576 -0.500000  0.0 -1.000000  0.0  0.0 -0.5  1.000000  0.657053 -1.224745   \n",
       "8577 -0.500000  0.0 -1.000000  0.0  0.0 -0.5  1.000000 -1.924225 -1.224745   \n",
       "8578 -0.500000  0.0 -1.000000  0.0  0.0 -0.5  1.000000  0.657053  0.816497   \n",
       "8579  2.000000  0.0 -1.000000  0.0  0.0 -0.5  1.000000  0.657053  0.816497   \n",
       "\n",
       "           10   ...       183       184  185       186  187  188       189  \\\n",
       "0     0.502042  ...  0.485509  1.224745 -1.0 -0.886964 -0.5  0.5  0.504884   \n",
       "1     0.502042  ...  1.352488  1.224745 -1.0  1.222008 -0.5  0.5  0.498370   \n",
       "2    -1.999990  ... -1.161753 -0.816497 -1.0 -0.673657 -0.5  0.5  0.498370   \n",
       "3     0.502042  ...  0.485509 -0.816497 -1.0 -0.881609 -0.5  0.5  0.498370   \n",
       "4     0.493865  ... -1.161753 -0.816497 -1.0  1.220223  2.0 -2.0 -1.999994   \n",
       "...        ...  ...       ...       ...  ...       ...  ...  ...       ...   \n",
       "8575  0.000000  ...  0.816497 -1.000000 -0.5  0.000000  0.5 -1.0 -0.047062   \n",
       "8576  0.000000  ...  0.816497 -1.000000 -0.5  0.000000  0.5 -1.0  1.129490   \n",
       "8577  0.000000  ... -1.224745 -1.000000 -0.5  0.000000  0.5 -1.0 -1.105959   \n",
       "8578  0.000000  ...  0.816497 -1.000000  2.0  0.000000  0.5 -1.0  1.129490   \n",
       "8579  0.000000  ... -1.224745 -1.000000 -0.5  0.000000 -2.0 -1.0 -1.105959   \n",
       "\n",
       "      190       191       192  \n",
       "0     0.5 -1.105959  0.514748  \n",
       "1     0.5 -0.047062  0.514748  \n",
       "2     0.5 -1.105959 -1.171495  \n",
       "3     0.5  1.129490  1.313494  \n",
       "4    -2.0  1.129490 -1.171495  \n",
       "...   ...       ...       ...  \n",
       "8575 -1.0  0.500000 -1.069045  \n",
       "8576 -1.0  0.500000 -1.069045  \n",
       "8577 -1.0 -2.000000  1.603567  \n",
       "8578 -1.0  0.500000  0.267261  \n",
       "8579 -1.0  0.500000  0.267261  \n",
       "\n",
       "[8580 rows x 192 columns]"
      ]
     },
     "execution_count": 21,
     "metadata": {},
     "output_type": "execute_result"
    }
   ],
   "source": [
    "XI_norm[np.arange(1,193)]"
   ]
  },
  {
   "cell_type": "code",
   "execution_count": 22,
   "metadata": {},
   "outputs": [
    {
     "name": "stdout",
     "output_type": "stream",
     "text": [
      "8580 5 1716\n",
      "pca:  (8580, 5)\n",
      "lda:  (8580, 5)\n",
      "pca:  (1716, 5, 5)\n",
      "lda:  (1716, 5, 5)\n"
     ]
    }
   ],
   "source": [
    "data_cols = np.arange(1,193)\n",
    "label_col = 0\n",
    "pca = PCA(n_components=5)\n",
    "\n",
    "XI_coll_pca = pca.fit_transform(XI_norm[data_cols])\n",
    "XI_coll_lda = pca.fit_transform(XI_norm[data_cols], XI_norm[label_col])\n",
    "\n",
    "TI_coll_pca = pca.fit_transform(TI_norm[data_cols])\n",
    "TI_coll_lda = pca.fit_transform(TI_norm[data_cols], XI_norm[label_col])\n",
    "\n",
    "if XI_coll_pca.shape != XI_coll_lda.shape:\n",
    "    raise Expection('Something went wrong, dimensions do not match!')\n",
    "\n",
    "x,y = XI_coll_pca.shape\n",
    "n_rows = int(x / 5)\n",
    "n_rows_test = int(TI_coll_lda.shape[0]/5)\n",
    "\n",
    "print(x,y,n_rows)\n",
    "\n",
    "Isub5_pca = XI_coll_pca.reshape((n_rows, 5, 5))\n",
    "Isub5_lda = XI_coll_lda.reshape((n_rows, 5, 5))\n",
    "\n",
    "I_t_sub5_pca = TI_coll_pca.reshape((n_rows_test, 5, 5))\n",
    "I_t_sub5_lda = TI_coll_lda.reshape((n_rows_test, 5, 5))\n",
    "\n",
    "print(\"pca: \", XI_coll_pca.shape)\n",
    "print(\"lda: \", XI_coll_lda.shape)\n",
    "print(\"pca: \", Isub5_pca.shape)\n",
    "print(\"lda: \", Isub5_lda.shape)\n"
   ]
  },
  {
   "cell_type": "code",
   "execution_count": 23,
   "metadata": {},
   "outputs": [],
   "source": [
    "I_sub_10 = join_pca_lda(Isub5_pca,Isub5_lda).shape"
   ]
  },
  {
   "cell_type": "markdown",
   "metadata": {},
   "source": [
    "# 3. Feature extraction and feature-level fusion for multimodal classification"
   ]
  },
  {
   "cell_type": "markdown",
   "metadata": {},
   "source": [
    "<a id='task3'></a>\n",
    "<div class=\" alert alert-warning\">\n",
    "    <b>Assigment.</b> <b>Task 3.</b>\n",
    "\n",
    "Prepare new feature sets for each modality and combine them to single feature representation. Compare two classifiers from scikit-learn. Train classifiers using joint feature presentation. Evaluate and compare the result using testing dataset. Do the subtasks given as\n",
    "<br>   \n",
    "<br> \n",
    "<p> <b>3.1</b> Similar to task 2.1, calculate PCA for accelerometer, but choose now the 10 largest principal components as 10-dim feature vector for each window. In addition, for each window calculate mean and standard deviation of each three acc channels as statistical features, resulting 6-dimensional vector. Combine these to 36-dimensional final feature vector.</p>\n",
    "<br>  \n",
    "<p> <b>3.2</b> Similar to task 2.2, calculate the PCA for depth images using same setup, but now choose the 10 largest principal components as feature vector. Concatenate the image sequence forming 50-dimensional feature vector from each windowed example.</p>\n",
    "<br> \n",
    "<p> <b>3.3</b> Form a joint feature presentation of features extracted in 3.1 and 3.2, resulting 86-dimensional feature vector for each example. Normalize data between 0-1 using the training dataset. Use support vector machine (SVM) with RBF-kernel and Gaussian naiveBayes classifier (use default parameter values for both classifiers). Train the classifiers and evaluate and compare classifiers on testset using confusion matrices and F1 scores.</p>\n",
    "<br> \n",
    "Document your work, evaluate the results, and analyse the outcomes in each subtasks 3.1-3.3.\n",
    "    \n",
    "</div>"
   ]
  },
  {
   "cell_type": "code",
   "execution_count": 44,
   "metadata": {},
   "outputs": [
    {
     "data": {
      "text/plain": [
       "0       1.0\n",
       "1       1.0\n",
       "2       1.0\n",
       "3       1.0\n",
       "4       1.0\n",
       "       ... \n",
       "5050    1.0\n",
       "5051    1.0\n",
       "5052    1.0\n",
       "5053    1.0\n",
       "5054    1.0\n",
       "Length: 5055, dtype: float64"
      ]
     },
     "execution_count": 44,
     "metadata": {},
     "output_type": "execute_result"
    }
   ],
   "source": [
    "#X_PCA_10 = collapse_windows_pca(X, n=10)\n",
    "\n",
    "# this still requires the mean and std dev [mu,sigma,mu,sigma,mu,sigma] to be concatenatedk\n",
    "#X_PCA_10.reshape(1685, 1, 30).shape \n",
    "\n",
    "x,y,z = X.shape\n",
    "\n",
    "Xdf = pd.DataFrame(X.reshape((x*y, z)))\n",
    "    \n",
    "#    flattened = windows.reshape((x*y, z))\n",
    "#    collapsed = PCA(n_components=n).fit_transform(flattened)\n",
    "#    return      collapsed.reshape(x,y,n)\n",
    "\n",
    "\n",
    "Xdf['mean'] = Xdf.mean(axis=1)\n",
    "Xdf.std(axis=1)"
   ]
  },
  {
   "cell_type": "code",
   "execution_count": 25,
   "metadata": {},
   "outputs": [
    {
     "name": "stdout",
     "output_type": "stream",
     "text": [
      "8580 10 1716\n"
     ]
    },
    {
     "ename": "ValueError",
     "evalue": "cannot reshape array of size 10175 into shape (407,5,10)",
     "output_type": "error",
     "traceback": [
      "\u001b[0;31m---------------------------------------------------------------------------\u001b[0m",
      "\u001b[0;31mValueError\u001b[0m                                Traceback (most recent call last)",
      "\u001b[0;32m<ipython-input-25-19096edd46d6>\u001b[0m in \u001b[0;36m<module>\u001b[0;34m\u001b[0m\n\u001b[1;32m     14\u001b[0m \u001b[0;34m\u001b[0m\u001b[0m\n\u001b[1;32m     15\u001b[0m \u001b[0mIsub10_pca\u001b[0m \u001b[0;34m=\u001b[0m \u001b[0mXI_coll_pca_10\u001b[0m\u001b[0;34m.\u001b[0m\u001b[0mreshape\u001b[0m\u001b[0;34m(\u001b[0m\u001b[0;34m(\u001b[0m\u001b[0mn_rows\u001b[0m\u001b[0;34m,\u001b[0m \u001b[0;36m5\u001b[0m\u001b[0;34m,\u001b[0m \u001b[0;36m10\u001b[0m\u001b[0;34m)\u001b[0m\u001b[0;34m)\u001b[0m\u001b[0;34m\u001b[0m\u001b[0;34m\u001b[0m\u001b[0m\n\u001b[0;32m---> 16\u001b[0;31m \u001b[0mI_t_sub10_pca\u001b[0m \u001b[0;34m=\u001b[0m \u001b[0mTI_coll_pca\u001b[0m\u001b[0;34m.\u001b[0m\u001b[0mreshape\u001b[0m\u001b[0;34m(\u001b[0m\u001b[0;34m(\u001b[0m\u001b[0mn_rows_test\u001b[0m\u001b[0;34m,\u001b[0m \u001b[0;36m5\u001b[0m\u001b[0;34m,\u001b[0m \u001b[0;36m10\u001b[0m\u001b[0;34m)\u001b[0m\u001b[0;34m)\u001b[0m\u001b[0;34m\u001b[0m\u001b[0;34m\u001b[0m\u001b[0m\n\u001b[0m\u001b[1;32m     17\u001b[0m \u001b[0;34m\u001b[0m\u001b[0m\n\u001b[1;32m     18\u001b[0m \u001b[0mI_f_10\u001b[0m \u001b[0;34m=\u001b[0m \u001b[0mIsub10_pca\u001b[0m\u001b[0;34m.\u001b[0m\u001b[0mreshape\u001b[0m\u001b[0;34m(\u001b[0m\u001b[0;34m(\u001b[0m\u001b[0mn_rows\u001b[0m\u001b[0;34m,\u001b[0m \u001b[0;36m1\u001b[0m\u001b[0;34m,\u001b[0m \u001b[0;36m50\u001b[0m\u001b[0;34m)\u001b[0m\u001b[0;34m)\u001b[0m\u001b[0;34m\u001b[0m\u001b[0;34m\u001b[0m\u001b[0m\n",
      "\u001b[0;31mValueError\u001b[0m: cannot reshape array of size 10175 into shape (407,5,10)"
     ]
    }
   ],
   "source": [
    "data_cols = np.arange(1,193)\n",
    "label_col = 0\n",
    "pca = PCA(n_components=10)\n",
    "\n",
    "XI_coll_pca_10 = pca.fit_transform(XI_norm[data_cols])\n",
    "TI_coll_pca_10 = pca.fit_transform(TI_norm[data_cols])\n",
    "\n",
    "x,y = XI_coll_pca_10.shape\n",
    "\n",
    "n_rows = int(x / 5)\n",
    "n_rows_test = int(TI_coll_pca_10.shape[0]/5)\n",
    "\n",
    "print(x,y,n_rows)\n",
    "\n",
    "Isub10_pca = XI_coll_pca_10.reshape((n_rows, 5, 10))\n",
    "I_t_sub10_pca = TI_coll_pca.reshape((n_rows_test, 5, 10))\n",
    "\n",
    "I_f_10 = Isub10_pca.reshape((n_rows, 1, 50))\n",
    "\n",
    "print(\"pca: \", XI_coll_pca_10.shape)\n",
    "print(\"pca: \", Isub10_pca.shape)\n",
    "print(\"pca: \", I_f_10.shape)"
   ]
  },
  {
   "cell_type": "code",
   "execution_count": null,
   "metadata": {},
   "outputs": [],
   "source": [
    "np.array([np.ones((5,10)) * 1,\n",
    "np.ones((5,10)) * 2]).reshape(2,1,50)"
   ]
  },
  {
   "cell_type": "code",
   "execution_count": null,
   "metadata": {},
   "outputs": [],
   "source": []
  },
  {
   "cell_type": "code",
   "execution_count": null,
   "metadata": {},
   "outputs": [],
   "source": []
  },
  {
   "cell_type": "markdown",
   "metadata": {},
   "source": [
    "# 4. Decision-level fusion for multimodal classification"
   ]
  },
  {
   "cell_type": "markdown",
   "metadata": {},
   "source": [
    "<a id='task4'></a>\n",
    "<div class=\" alert alert-warning\">\n",
    "    <b>Assigment.</b> <b>Task 4.</b>\n",
    "\n",
    "Use features calculated for each modality in task 3. Choose base classifier for each modality from scikit-learn. Train classifiers for each modality feature presentations separately and combine the outputs in decision level. Evaluate and compare the result on testing dataset. Do the subtasks given as\n",
    "<br>\n",
    "<br> \n",
    "<p> <b>4.1</b> Use base classifiers of support vector machine (SVM) with RBF-kernel and AdaBoost classifier (with random_state=0). \n",
    "Normalize data between 0-1 using the training dataset. Train the base classifiers by tuning the model parameters (<i>C</i> parameter and RBF-kernel <i>gamma</i> in SVM as well as <i>n_estimators</i> and <i>learning_rate</i> in Adaboost) using 10-fold cross-validation on training dataset to find optimal set of parameters (hint: use GridSearchCV from scikit-learn). For grid search use the following values $C = [0.1, 1.0, 10.0, 100.0]$, $gamma=[0.1, 0.25, 0.5, 0.75, 1.0, 2.0]$, $n\\_estimators = [50, 100, 500, 1000]$, and $learning\\_rate = [0.1, 0.25, 0.5, 0.75,1.0]$. Choose the best parameters and train the classifiers for each modality on whole training dataset. Is there a possibility that classifiers will overfit to training data using this parameter selection strategy? If so, why? </p>\n",
    "<br>\n",
    "<p> <b>4.2</b> Predict probabilistic outputs of each trained classifier for both modalities using the test set. </p>\n",
    "<br>\n",
    "<p> <b>4.3</b> Combine the probabilistic outputs of different modalities by fixed classification rules: max, min, prod, and sum. Evaluate, compare, and analyse the final combined results using confusion matrices and F1 scores. Show results for each base classifier combinations (i.e., $SVM_{acc}+SVM_{depth}$, $AdaBoost_{acc}+AdaBoost_{depth}$, $SVM_{acc}+AdaBoost_{depth}$, $AdaBoost_{acc}+SVM_{depth}$)</p>\n",
    "<br>\n",
    "Document your work, evaluate the results, and analyse the outcomes in each subtasks 4.1-4.3.\n",
    "    \n",
    "</div>"
   ]
  },
  {
   "cell_type": "code",
   "execution_count": null,
   "metadata": {},
   "outputs": [],
   "source": []
  },
  {
   "cell_type": "code",
   "execution_count": null,
   "metadata": {},
   "outputs": [],
   "source": []
  },
  {
   "cell_type": "code",
   "execution_count": null,
   "metadata": {},
   "outputs": [],
   "source": []
  },
  {
   "cell_type": "code",
   "execution_count": null,
   "metadata": {},
   "outputs": [],
   "source": []
  },
  {
   "cell_type": "code",
   "execution_count": null,
   "metadata": {},
   "outputs": [],
   "source": []
  },
  {
   "cell_type": "markdown",
   "metadata": {},
   "source": [
    "# 5. Bonus task: Multimodal biometric identification of persons (optional)"
   ]
  },
  {
   "cell_type": "markdown",
   "metadata": {},
   "source": [
    "<a id='task5'></a>\n",
    "<div class=\" alert alert-warning\">\n",
    "    <b>Assigment.</b> <b>Task 5.</b>\n",
    "\n",
    "Can you build a classifier that recognizes the person who is performing the exercise? Use same 10 person dataset and split it so that first 25% of each long exercise sequence is used for training and rest 75% of each sequence is used for testing the classifier. Use same 5 second windowing with 3 seconds overlap to prepare the examples. Note that, now the person identity is the class label instead of exercise type. Max. 10 points are given but you can earn points from partial solution, as well.\n",
    "<br> \n",
    "<br> \n",
    "<p> <b>5.1</b> Build a classifier to identify persons based on the features and one of the models given in task 4 (max. 5 points).</p>\n",
    "<br> \n",
    "<p> <b>5.2</b> Can you build your own solution (using new features, new classification model or different fusion approaches) to beat the approach in Task 5.1 ? (max. 5 points) </p>\n",
    "<br>  \n",
    "Document your work. Evaluate and compare the results using confusion matrix and F1 score.\n",
    "\n",
    "</div>"
   ]
  },
  {
   "cell_type": "code",
   "execution_count": null,
   "metadata": {},
   "outputs": [],
   "source": []
  },
  {
   "cell_type": "code",
   "execution_count": null,
   "metadata": {},
   "outputs": [],
   "source": []
  },
  {
   "cell_type": "code",
   "execution_count": null,
   "metadata": {},
   "outputs": [],
   "source": []
  },
  {
   "cell_type": "code",
   "execution_count": null,
   "metadata": {},
   "outputs": [],
   "source": []
  },
  {
   "cell_type": "code",
   "execution_count": null,
   "metadata": {},
   "outputs": [],
   "source": []
  }
 ],
 "metadata": {
  "celltoolbar": "Create Assignment",
  "kernelspec": {
   "display_name": "Python 3",
   "language": "python",
   "name": "python3"
  },
  "language_info": {
   "codemirror_mode": {
    "name": "ipython",
    "version": 3
   },
   "file_extension": ".py",
   "mimetype": "text/x-python",
   "name": "python",
   "nbconvert_exporter": "python",
   "pygments_lexer": "ipython3",
   "version": "3.9.1"
  },
  "varInspector": {
   "cols": {
    "lenName": 16,
    "lenType": 16,
    "lenVar": 40
   },
   "kernels_config": {
    "python": {
     "delete_cmd_postfix": "",
     "delete_cmd_prefix": "del ",
     "library": "var_list.py",
     "varRefreshCmd": "print(var_dic_list())"
    },
    "r": {
     "delete_cmd_postfix": ") ",
     "delete_cmd_prefix": "rm(",
     "library": "var_list.r",
     "varRefreshCmd": "cat(var_dic_list()) "
    }
   },
   "types_to_exclude": [
    "module",
    "function",
    "builtin_function_or_method",
    "instance",
    "_Feature"
   ],
   "window_display": false
  }
 },
 "nbformat": 4,
 "nbformat_minor": 4
}
